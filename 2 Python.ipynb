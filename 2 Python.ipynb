{
  "nbformat": 4,
  "nbformat_minor": 0,
  "metadata": {
    "colab": {
      "name": "Sarthak Didwania - sarthak.didwania.17cse@bml.edu.in.ipynb",
      "provenance": [],
      "collapsed_sections": []
    },
    "kernelspec": {
      "name": "python3",
      "display_name": "Python 3"
    }
  },
  "cells": [
    {
      "cell_type": "code",
      "metadata": {
        "id": "ZmAQiPbl9EHw"
      },
      "source": [
        "import pandas as pd\n",
        "from pandas import DataFrame"
      ],
      "execution_count": 196,
      "outputs": []
    },
    {
      "cell_type": "code",
      "metadata": {
        "id": "6l5ulHSM-giR"
      },
      "source": [
        "df = pd.read_csv(\"data.csv\")"
      ],
      "execution_count": 197,
      "outputs": []
    },
    {
      "cell_type": "code",
      "metadata": {
        "id": "V86zQkLA-mmC"
      },
      "source": [
        "df1 = pd.read_csv(\"activity_data.csv\")"
      ],
      "execution_count": 198,
      "outputs": []
    },
    {
      "cell_type": "code",
      "metadata": {
        "id": "hYJbaVfm-ozv",
        "outputId": "c5c724a7-32f5-43da-f989-081e8e3cd596",
        "colab": {
          "base_uri": "https://localhost:8080/",
          "height": 195
        }
      },
      "source": [
        "df.head()"
      ],
      "execution_count": 199,
      "outputs": [
        {
          "output_type": "execute_result",
          "data": {
            "text/html": [
              "<div>\n",
              "<style scoped>\n",
              "    .dataframe tbody tr th:only-of-type {\n",
              "        vertical-align: middle;\n",
              "    }\n",
              "\n",
              "    .dataframe tbody tr th {\n",
              "        vertical-align: top;\n",
              "    }\n",
              "\n",
              "    .dataframe thead th {\n",
              "        text-align: right;\n",
              "    }\n",
              "</style>\n",
              "<table border=\"1\" class=\"dataframe\">\n",
              "  <thead>\n",
              "    <tr style=\"text-align: right;\">\n",
              "      <th></th>\n",
              "      <th>_type</th>\n",
              "      <th>_id</th>\n",
              "      <th>_score</th>\n",
              "      <th>_source</th>\n",
              "    </tr>\n",
              "  </thead>\n",
              "  <tbody>\n",
              "    <tr>\n",
              "      <th>0</th>\n",
              "      <td>movies</td>\n",
              "      <td>97</td>\n",
              "      <td>20.848059</td>\n",
              "      <td>{'cast': ['Jeff Bridges', 'Bruce Boxleitner', ...</td>\n",
              "    </tr>\n",
              "    <tr>\n",
              "      <th>1</th>\n",
              "      <td>movies</td>\n",
              "      <td>507</td>\n",
              "      <td>10.478757</td>\n",
              "      <td>{'cast': ['Eric Stoltz', 'Julie Delpy', 'Jean-...</td>\n",
              "    </tr>\n",
              "    <tr>\n",
              "      <th>2</th>\n",
              "      <td>movies</td>\n",
              "      <td>811</td>\n",
              "      <td>9.831051</td>\n",
              "      <td>{'cast': ['Bruce Dern', 'Cliff Potts', 'Ron Ri...</td>\n",
              "    </tr>\n",
              "    <tr>\n",
              "      <th>3</th>\n",
              "      <td>tvshows</td>\n",
              "      <td>25222</td>\n",
              "      <td>9.288745</td>\n",
              "      <td>{'cast': ['Ron Rifkin', 'Eddie Barth', 'Charle...</td>\n",
              "    </tr>\n",
              "    <tr>\n",
              "      <th>4</th>\n",
              "      <td>movies</td>\n",
              "      <td>757</td>\n",
              "      <td>9.140831</td>\n",
              "      <td>{'cast': ['Margaret Rutherford', 'Ron Moody', ...</td>\n",
              "    </tr>\n",
              "  </tbody>\n",
              "</table>\n",
              "</div>"
            ],
            "text/plain": [
              "     _type    _id     _score                                            _source\n",
              "0   movies     97  20.848059  {'cast': ['Jeff Bridges', 'Bruce Boxleitner', ...\n",
              "1   movies    507  10.478757  {'cast': ['Eric Stoltz', 'Julie Delpy', 'Jean-...\n",
              "2   movies    811   9.831051  {'cast': ['Bruce Dern', 'Cliff Potts', 'Ron Ri...\n",
              "3  tvshows  25222   9.288745  {'cast': ['Ron Rifkin', 'Eddie Barth', 'Charle...\n",
              "4   movies    757   9.140831  {'cast': ['Margaret Rutherford', 'Ron Moody', ..."
            ]
          },
          "metadata": {
            "tags": []
          },
          "execution_count": 199
        }
      ]
    },
    {
      "cell_type": "code",
      "metadata": {
        "id": "XMN4csUu-uDH",
        "outputId": "0bfcd28d-61ee-4ee4-b133-4a012c496f5e",
        "colab": {
          "base_uri": "https://localhost:8080/",
          "height": 279
        }
      },
      "source": [
        "df1.head()"
      ],
      "execution_count": 200,
      "outputs": [
        {
          "output_type": "execute_result",
          "data": {
            "text/html": [
              "<div>\n",
              "<style scoped>\n",
              "    .dataframe tbody tr th:only-of-type {\n",
              "        vertical-align: middle;\n",
              "    }\n",
              "\n",
              "    .dataframe tbody tr th {\n",
              "        vertical-align: top;\n",
              "    }\n",
              "\n",
              "    .dataframe thead th {\n",
              "        text-align: right;\n",
              "    }\n",
              "</style>\n",
              "<table border=\"1\" class=\"dataframe\">\n",
              "  <thead>\n",
              "    <tr style=\"text-align: right;\">\n",
              "      <th></th>\n",
              "      <th>media_type</th>\n",
              "      <th>watched</th>\n",
              "      <th>rating</th>\n",
              "      <th>watchlist</th>\n",
              "      <th>profile_id</th>\n",
              "      <th>id</th>\n",
              "      <th>hide</th>\n",
              "    </tr>\n",
              "  </thead>\n",
              "  <tbody>\n",
              "    <tr>\n",
              "      <th>0</th>\n",
              "      <td>{'S': 'movies'}</td>\n",
              "      <td>{'M': {'value': {'NULL': True}, 'timestamp': {...</td>\n",
              "      <td>{'M': {'value': {'NULL': True}, 'timestamp': {...</td>\n",
              "      <td>{'M': {'value': {'S': '0'}, 'timestamp': {'S':...</td>\n",
              "      <td>{'S': 'b1d89c45-ed9b-4a0e-8d78-28e628c2fb8c'}</td>\n",
              "      <td>{'S': '744_movies'}</td>\n",
              "      <td>{'M': {'value': {'NULL': True}, 'timestamp': {...</td>\n",
              "    </tr>\n",
              "    <tr>\n",
              "      <th>1</th>\n",
              "      <td>{'S': 'movies'}</td>\n",
              "      <td>{'M': {'value': {'NULL': True}, 'timestamp': {...</td>\n",
              "      <td>{'M': {'value': {'S': '3'}, 'timestamp': {'S':...</td>\n",
              "      <td>{'M': {'value': {'NULL': True}, 'timestamp': {...</td>\n",
              "      <td>{'S': 'b1d89c45-ed9b-4a0e-8d78-28e628c2fb8c'}</td>\n",
              "      <td>{'S': '820_movies'}</td>\n",
              "      <td>{'M': {'value': {'NULL': True}, 'timestamp': {...</td>\n",
              "    </tr>\n",
              "    <tr>\n",
              "      <th>2</th>\n",
              "      <td>{'S': 'movies'}</td>\n",
              "      <td>{'M': {'value': {'NULL': True}, 'timestamp': {...</td>\n",
              "      <td>{'M': {'value': {'NULL': True}, 'timestamp': {...</td>\n",
              "      <td>{'M': {'value': {'S': '0'}, 'timestamp': {'S':...</td>\n",
              "      <td>{'S': 'b1d89c45-ed9b-4a0e-8d78-28e628c2fb8c'}</td>\n",
              "      <td>{'S': '402_movies'}</td>\n",
              "      <td>{'M': {'value': {'NULL': True}, 'timestamp': {...</td>\n",
              "    </tr>\n",
              "    <tr>\n",
              "      <th>3</th>\n",
              "      <td>{'S': 'movies'}</td>\n",
              "      <td>{'M': {'value': {'NULL': True}, 'timestamp': {...</td>\n",
              "      <td>{'M': {'value': {'S': '3'}, 'timestamp': {'S':...</td>\n",
              "      <td>{'M': {'value': {'S': '0'}, 'timestamp': {'S':...</td>\n",
              "      <td>{'S': 'b1d89c45-ed9b-4a0e-8d78-28e628c2fb8c'}</td>\n",
              "      <td>{'S': '87_movies'}</td>\n",
              "      <td>{'M': {'value': {'NULL': True}, 'timestamp': {...</td>\n",
              "    </tr>\n",
              "    <tr>\n",
              "      <th>4</th>\n",
              "      <td>{'S': 'movies'}</td>\n",
              "      <td>{'M': {'value': {'NULL': True}, 'timestamp': {...</td>\n",
              "      <td>{'M': {'value': {'NULL': True}, 'timestamp': {...</td>\n",
              "      <td>{'M': {'value': {'S': '0'}, 'timestamp': {'S':...</td>\n",
              "      <td>{'S': 'b1d89c45-ed9b-4a0e-8d78-28e628c2fb8c'}</td>\n",
              "      <td>{'S': '810_movies'}</td>\n",
              "      <td>{'M': {'value': {'NULL': True}, 'timestamp': {...</td>\n",
              "    </tr>\n",
              "  </tbody>\n",
              "</table>\n",
              "</div>"
            ],
            "text/plain": [
              "        media_type  ...                                               hide\n",
              "0  {'S': 'movies'}  ...  {'M': {'value': {'NULL': True}, 'timestamp': {...\n",
              "1  {'S': 'movies'}  ...  {'M': {'value': {'NULL': True}, 'timestamp': {...\n",
              "2  {'S': 'movies'}  ...  {'M': {'value': {'NULL': True}, 'timestamp': {...\n",
              "3  {'S': 'movies'}  ...  {'M': {'value': {'NULL': True}, 'timestamp': {...\n",
              "4  {'S': 'movies'}  ...  {'M': {'value': {'NULL': True}, 'timestamp': {...\n",
              "\n",
              "[5 rows x 7 columns]"
            ]
          },
          "metadata": {
            "tags": []
          },
          "execution_count": 200
        }
      ]
    },
    {
      "cell_type": "code",
      "metadata": {
        "id": "QLFtk8wbSd0n"
      },
      "source": [
        "output = pd.read_csv(\"output.csv\")"
      ],
      "execution_count": 201,
      "outputs": []
    },
    {
      "cell_type": "code",
      "metadata": {
        "id": "L47MX4uiSjyS",
        "outputId": "8db0e34b-7910-4337-9005-1cd068416656",
        "colab": {
          "base_uri": "https://localhost:8080/",
          "height": 195
        }
      },
      "source": [
        "output.head()"
      ],
      "execution_count": 202,
      "outputs": [
        {
          "output_type": "execute_result",
          "data": {
            "text/html": [
              "<div>\n",
              "<style scoped>\n",
              "    .dataframe tbody tr th:only-of-type {\n",
              "        vertical-align: middle;\n",
              "    }\n",
              "\n",
              "    .dataframe tbody tr th {\n",
              "        vertical-align: top;\n",
              "    }\n",
              "\n",
              "    .dataframe thead th {\n",
              "        text-align: right;\n",
              "    }\n",
              "</style>\n",
              "<table border=\"1\" class=\"dataframe\">\n",
              "  <thead>\n",
              "    <tr style=\"text-align: right;\">\n",
              "      <th></th>\n",
              "      <th>_source</th>\n",
              "    </tr>\n",
              "  </thead>\n",
              "  <tbody>\n",
              "    <tr>\n",
              "      <th>0</th>\n",
              "      <td>{'cast': ['Jeff Bridges', 'Bruce Boxleitner', ...</td>\n",
              "    </tr>\n",
              "    <tr>\n",
              "      <th>1</th>\n",
              "      <td>{'cast': ['Eric Stoltz', 'Julie Delpy', 'Jean-...</td>\n",
              "    </tr>\n",
              "    <tr>\n",
              "      <th>2</th>\n",
              "      <td>{'cast': ['Bruce Dern', 'Cliff Potts', 'Ron Ri...</td>\n",
              "    </tr>\n",
              "    <tr>\n",
              "      <th>3</th>\n",
              "      <td>{'cast': ['Ron Rifkin', 'Eddie Barth', 'Charle...</td>\n",
              "    </tr>\n",
              "    <tr>\n",
              "      <th>4</th>\n",
              "      <td>{'cast': ['Margaret Rutherford', 'Ron Moody', ...</td>\n",
              "    </tr>\n",
              "  </tbody>\n",
              "</table>\n",
              "</div>"
            ],
            "text/plain": [
              "                                             _source\n",
              "0  {'cast': ['Jeff Bridges', 'Bruce Boxleitner', ...\n",
              "1  {'cast': ['Eric Stoltz', 'Julie Delpy', 'Jean-...\n",
              "2  {'cast': ['Bruce Dern', 'Cliff Potts', 'Ron Ri...\n",
              "3  {'cast': ['Ron Rifkin', 'Eddie Barth', 'Charle...\n",
              "4  {'cast': ['Margaret Rutherford', 'Ron Moody', ..."
            ]
          },
          "metadata": {
            "tags": []
          },
          "execution_count": 202
        }
      ]
    },
    {
      "cell_type": "code",
      "metadata": {
        "id": "N0KKsNpkHK-t"
      },
      "source": [
        "df1[\"watch\"] = df1[\"watched\"].apply(lambda x: \"nan\" if x[18:22]== 'NULL' else \"nan\")"
      ],
      "execution_count": 203,
      "outputs": []
    },
    {
      "cell_type": "code",
      "metadata": {
        "id": "12k3-_RqIhEm"
      },
      "source": [
        "df1[\"rate\"] = df1[\"rating\"].apply(lambda x: \"nan\" if x[18:22]== 'NULL' else str(x[23:24]))"
      ],
      "execution_count": 204,
      "outputs": []
    },
    {
      "cell_type": "code",
      "metadata": {
        "id": "dLRGfl-jI9GQ"
      },
      "source": [
        "df1[\"listwatch\"] = df1[\"watchlist\"].apply(lambda x: \"nan\" if x[18:22]== 'NULL' else str(x[23:24]))"
      ],
      "execution_count": 205,
      "outputs": []
    },
    {
      "cell_type": "code",
      "metadata": {
        "id": "1i2qqHDWJNx0"
      },
      "source": [
        "df1[\"hiding\"] = df1[\"hide\"].apply(lambda x: \"nan\" if x[18:22]== 'NULL' else \"nan\")"
      ],
      "execution_count": 206,
      "outputs": []
    },
    {
      "cell_type": "code",
      "metadata": {
        "id": "TWBfvUe4JUTT"
      },
      "source": [
        "df1[\"_id\"] = df1[\"id\"].apply(lambda x: int(x[7:10].replace(\"_\",\" \")))"
      ],
      "execution_count": 207,
      "outputs": []
    },
    {
      "cell_type": "code",
      "metadata": {
        "id": "umfxuJTPIa_b"
      },
      "source": [
        "new_df = df1[[\"rate\",\"hiding\",\"listwatch\",\"watch\",\"_id\"]]"
      ],
      "execution_count": 208,
      "outputs": []
    },
    {
      "cell_type": "code",
      "metadata": {
        "id": "OkwytempKlWg"
      },
      "source": [
        "# new_df"
      ],
      "execution_count": 209,
      "outputs": []
    },
    {
      "cell_type": "code",
      "metadata": {
        "id": "3wqQeD2sMc2_",
        "outputId": "2ca62dba-7410-484b-eeaf-3a809f86e667",
        "colab": {
          "base_uri": "https://localhost:8080/"
        }
      },
      "source": [
        "new_df[\"ind\"] = new_df.index"
      ],
      "execution_count": 210,
      "outputs": [
        {
          "output_type": "stream",
          "text": [
            "/usr/local/lib/python3.6/dist-packages/ipykernel_launcher.py:1: SettingWithCopyWarning: \n",
            "A value is trying to be set on a copy of a slice from a DataFrame.\n",
            "Try using .loc[row_indexer,col_indexer] = value instead\n",
            "\n",
            "See the caveats in the documentation: https://pandas.pydata.org/pandas-docs/stable/user_guide/indexing.html#returning-a-view-versus-a-copy\n",
            "  \"\"\"Entry point for launching an IPython kernel.\n"
          ],
          "name": "stderr"
        }
      ]
    },
    {
      "cell_type": "code",
      "metadata": {
        "id": "QU_NLfnwLCj7",
        "outputId": "7967648a-9fdb-4bc5-fedd-1c898b0cd98a",
        "colab": {
          "base_uri": "https://localhost:8080/"
        }
      },
      "source": [
        "new_df[\"source1\"] = new_df[\"ind\"].apply(lambda x: str(\", 'rating' : \"+ new_df['rate'][x]+\", 'hide' : \" +  new_df['hiding'][x] + \", 'watchlist' : \"  +  new_df['listwatch'][x] + \", 'watched' : \" +  new_df['watch'][x] + \"}\"))"
      ],
      "execution_count": 211,
      "outputs": [
        {
          "output_type": "stream",
          "text": [
            "/usr/local/lib/python3.6/dist-packages/ipykernel_launcher.py:1: SettingWithCopyWarning: \n",
            "A value is trying to be set on a copy of a slice from a DataFrame.\n",
            "Try using .loc[row_indexer,col_indexer] = value instead\n",
            "\n",
            "See the caveats in the documentation: https://pandas.pydata.org/pandas-docs/stable/user_guide/indexing.html#returning-a-view-versus-a-copy\n",
            "  \"\"\"Entry point for launching an IPython kernel.\n"
          ],
          "name": "stderr"
        }
      ]
    },
    {
      "cell_type": "code",
      "metadata": {
        "id": "7gBXiYqPMjL9",
        "outputId": "dd9bc88e-d490-4557-954d-f7a208af9a8d",
        "colab": {
          "base_uri": "https://localhost:8080/",
          "height": 195
        }
      },
      "source": [
        "new_df.head()"
      ],
      "execution_count": 212,
      "outputs": [
        {
          "output_type": "execute_result",
          "data": {
            "text/html": [
              "<div>\n",
              "<style scoped>\n",
              "    .dataframe tbody tr th:only-of-type {\n",
              "        vertical-align: middle;\n",
              "    }\n",
              "\n",
              "    .dataframe tbody tr th {\n",
              "        vertical-align: top;\n",
              "    }\n",
              "\n",
              "    .dataframe thead th {\n",
              "        text-align: right;\n",
              "    }\n",
              "</style>\n",
              "<table border=\"1\" class=\"dataframe\">\n",
              "  <thead>\n",
              "    <tr style=\"text-align: right;\">\n",
              "      <th></th>\n",
              "      <th>rate</th>\n",
              "      <th>hiding</th>\n",
              "      <th>listwatch</th>\n",
              "      <th>watch</th>\n",
              "      <th>_id</th>\n",
              "      <th>ind</th>\n",
              "      <th>source1</th>\n",
              "    </tr>\n",
              "  </thead>\n",
              "  <tbody>\n",
              "    <tr>\n",
              "      <th>0</th>\n",
              "      <td>nan</td>\n",
              "      <td>nan</td>\n",
              "      <td>0</td>\n",
              "      <td>nan</td>\n",
              "      <td>744</td>\n",
              "      <td>0</td>\n",
              "      <td>, 'rating' : nan, 'hide' : nan, 'watchlist' : ...</td>\n",
              "    </tr>\n",
              "    <tr>\n",
              "      <th>1</th>\n",
              "      <td>3</td>\n",
              "      <td>nan</td>\n",
              "      <td>nan</td>\n",
              "      <td>nan</td>\n",
              "      <td>820</td>\n",
              "      <td>1</td>\n",
              "      <td>, 'rating' : 3, 'hide' : nan, 'watchlist' : na...</td>\n",
              "    </tr>\n",
              "    <tr>\n",
              "      <th>2</th>\n",
              "      <td>nan</td>\n",
              "      <td>nan</td>\n",
              "      <td>0</td>\n",
              "      <td>nan</td>\n",
              "      <td>402</td>\n",
              "      <td>2</td>\n",
              "      <td>, 'rating' : nan, 'hide' : nan, 'watchlist' : ...</td>\n",
              "    </tr>\n",
              "    <tr>\n",
              "      <th>3</th>\n",
              "      <td>3</td>\n",
              "      <td>nan</td>\n",
              "      <td>0</td>\n",
              "      <td>nan</td>\n",
              "      <td>87</td>\n",
              "      <td>3</td>\n",
              "      <td>, 'rating' : 3, 'hide' : nan, 'watchlist' : 0,...</td>\n",
              "    </tr>\n",
              "    <tr>\n",
              "      <th>4</th>\n",
              "      <td>nan</td>\n",
              "      <td>nan</td>\n",
              "      <td>0</td>\n",
              "      <td>nan</td>\n",
              "      <td>810</td>\n",
              "      <td>4</td>\n",
              "      <td>, 'rating' : nan, 'hide' : nan, 'watchlist' : ...</td>\n",
              "    </tr>\n",
              "  </tbody>\n",
              "</table>\n",
              "</div>"
            ],
            "text/plain": [
              "  rate hiding  ... ind                                            source1\n",
              "0  nan    nan  ...   0  , 'rating' : nan, 'hide' : nan, 'watchlist' : ...\n",
              "1    3    nan  ...   1  , 'rating' : 3, 'hide' : nan, 'watchlist' : na...\n",
              "2  nan    nan  ...   2  , 'rating' : nan, 'hide' : nan, 'watchlist' : ...\n",
              "3    3    nan  ...   3  , 'rating' : 3, 'hide' : nan, 'watchlist' : 0,...\n",
              "4  nan    nan  ...   4  , 'rating' : nan, 'hide' : nan, 'watchlist' : ...\n",
              "\n",
              "[5 rows x 7 columns]"
            ]
          },
          "metadata": {
            "tags": []
          },
          "execution_count": 212
        }
      ]
    },
    {
      "cell_type": "code",
      "metadata": {
        "id": "J2871_3eQZJB",
        "outputId": "92e96dff-a855-4468-c7e9-13e32d8e22b2",
        "colab": {
          "base_uri": "https://localhost:8080/",
          "height": 102
        }
      },
      "source": [
        "output[\"_source\"][0]"
      ],
      "execution_count": 213,
      "outputs": [
        {
          "output_type": "execute_result",
          "data": {
            "application/vnd.google.colaboratory.intrinsic+json": {
              "type": "string"
            },
            "text/plain": [
              "\"{'cast': ['Jeff Bridges', 'Bruce Boxleitner', 'David Warner', 'Cindy Morgan', 'Barnard Hughes', 'Dan Shor', 'Peter Jurasik', 'Tony Stephano', 'Craig Chudy', 'Vince Deadrick Jr.', 'Sam Schatz', 'Michael Dudikoff'], 'streaming_modes': ['Subscription'], 'thumbnail_id': {'mob': '97-mob-w342-zwSFEczP7AzqugAHHIX3zHniT0t', 'tv': '97-tv-w780-zwSFEczP7AzqugAHHIX3zHniT0t', 'web': '97-web-w500-zwSFEczP7AzqugAHHIX3zHniT0t'}, 'media_type': 'movies', 'year': '1982', 'genres': ['Science Fiction', 'Action', 'Adventure'], 'ratings': {'internet_movie_database': '6.8/10'}, 'language': 'English', 'id': '97', 'services': ['Jio Cinema'], 'title_name': 'Tron', 'sooper_original': False, 'rating': nan, 'hide': nan, 'watchlist': nan, 'watched': nan}\""
            ]
          },
          "metadata": {
            "tags": []
          },
          "execution_count": 213
        }
      ]
    },
    {
      "cell_type": "code",
      "metadata": {
        "id": "CAVJACoPM9ii",
        "outputId": "ae2477f6-c1a4-4fc8-8fac-138b2e8e9fef",
        "colab": {
          "base_uri": "https://localhost:8080/",
          "height": 86
        }
      },
      "source": [
        "df[\"_source\"][0][:-1]"
      ],
      "execution_count": 214,
      "outputs": [
        {
          "output_type": "execute_result",
          "data": {
            "application/vnd.google.colaboratory.intrinsic+json": {
              "type": "string"
            },
            "text/plain": [
              "\"{'cast': ['Jeff Bridges', 'Bruce Boxleitner', 'David Warner', 'Cindy Morgan', 'Barnard Hughes', 'Dan Shor', 'Peter Jurasik', 'Tony Stephano', 'Craig Chudy', 'Vince Deadrick Jr.', 'Sam Schatz', 'Michael Dudikoff'], 'streaming_modes': ['Subscription'], 'thumbnail_id': {'mob': '97-mob-w342-zwSFEczP7AzqugAHHIX3zHniT0t', 'tv': '97-tv-w780-zwSFEczP7AzqugAHHIX3zHniT0t', 'web': '97-web-w500-zwSFEczP7AzqugAHHIX3zHniT0t'}, 'media_type': 'movies', 'year': '1982', 'genres': ['Science Fiction', 'Action', 'Adventure'], 'ratings': {'internet_movie_database': '6.8/10'}, 'language': 'English', 'id': '97', 'services': ['Jio Cinema'], 'title_name': 'Tron', 'sooper_original': False\""
            ]
          },
          "metadata": {
            "tags": []
          },
          "execution_count": 214
        }
      ]
    },
    {
      "cell_type": "code",
      "metadata": {
        "id": "S_Wx6Yz4OJUJ"
      },
      "source": [
        "temp =  \", 'rating': nan, 'hide': nan, 'watchlist': nan, 'watched': nan}\""
      ],
      "execution_count": 215,
      "outputs": []
    },
    {
      "cell_type": "code",
      "metadata": {
        "id": "7sY0SU3FQii1"
      },
      "source": [
        "df['sources1'] = df[\"_source\"].apply(lambda x: str(x[:-1]+ new_df.loc[new_df[\"_id\"] == df.loc[df[\"_source\"] == x, \"_id\"].iloc[0], \"source1\"])  if df.loc[df[\"_source\"] == x, \"_id\"].iloc[0] in list(new_df[\"_id\"]) else str(x[:-1]+temp))"
      ],
      "execution_count": 216,
      "outputs": []
    },
    {
      "cell_type": "code",
      "metadata": {
        "id": "kLP1KtPiTCJl",
        "outputId": "8d96fab4-0620-4d7e-9a50-b782c0e74da2",
        "colab": {
          "base_uri": "https://localhost:8080/"
        }
      },
      "source": [
        "type(df['sources1'])"
      ],
      "execution_count": 217,
      "outputs": [
        {
          "output_type": "execute_result",
          "data": {
            "text/plain": [
              "pandas.core.series.Series"
            ]
          },
          "metadata": {
            "tags": []
          },
          "execution_count": 217
        }
      ]
    },
    {
      "cell_type": "code",
      "metadata": {
        "id": "9DaBhw9sQjL0",
        "outputId": "35e7fb5c-4963-4ac3-f85e-5d9eb6c247f8",
        "colab": {
          "base_uri": "https://localhost:8080/",
          "height": 1000
        }
      },
      "source": [
        "df"
      ],
      "execution_count": 218,
      "outputs": [
        {
          "output_type": "execute_result",
          "data": {
            "text/html": [
              "<div>\n",
              "<style scoped>\n",
              "    .dataframe tbody tr th:only-of-type {\n",
              "        vertical-align: middle;\n",
              "    }\n",
              "\n",
              "    .dataframe tbody tr th {\n",
              "        vertical-align: top;\n",
              "    }\n",
              "\n",
              "    .dataframe thead th {\n",
              "        text-align: right;\n",
              "    }\n",
              "</style>\n",
              "<table border=\"1\" class=\"dataframe\">\n",
              "  <thead>\n",
              "    <tr style=\"text-align: right;\">\n",
              "      <th></th>\n",
              "      <th>_type</th>\n",
              "      <th>_id</th>\n",
              "      <th>_score</th>\n",
              "      <th>_source</th>\n",
              "      <th>sources1</th>\n",
              "    </tr>\n",
              "  </thead>\n",
              "  <tbody>\n",
              "    <tr>\n",
              "      <th>0</th>\n",
              "      <td>movies</td>\n",
              "      <td>97</td>\n",
              "      <td>20.848059</td>\n",
              "      <td>{'cast': ['Jeff Bridges', 'Bruce Boxleitner', ...</td>\n",
              "      <td>{'cast': ['Jeff Bridges', 'Bruce Boxleitner', ...</td>\n",
              "    </tr>\n",
              "    <tr>\n",
              "      <th>1</th>\n",
              "      <td>movies</td>\n",
              "      <td>507</td>\n",
              "      <td>10.478757</td>\n",
              "      <td>{'cast': ['Eric Stoltz', 'Julie Delpy', 'Jean-...</td>\n",
              "      <td>{'cast': ['Eric Stoltz', 'Julie Delpy', 'Jean-...</td>\n",
              "    </tr>\n",
              "    <tr>\n",
              "      <th>2</th>\n",
              "      <td>movies</td>\n",
              "      <td>811</td>\n",
              "      <td>9.831051</td>\n",
              "      <td>{'cast': ['Bruce Dern', 'Cliff Potts', 'Ron Ri...</td>\n",
              "      <td>{'cast': ['Bruce Dern', 'Cliff Potts', 'Ron Ri...</td>\n",
              "    </tr>\n",
              "    <tr>\n",
              "      <th>3</th>\n",
              "      <td>tvshows</td>\n",
              "      <td>25222</td>\n",
              "      <td>9.288745</td>\n",
              "      <td>{'cast': ['Ron Rifkin', 'Eddie Barth', 'Charle...</td>\n",
              "      <td>{'cast': ['Ron Rifkin', 'Eddie Barth', 'Charle...</td>\n",
              "    </tr>\n",
              "    <tr>\n",
              "      <th>4</th>\n",
              "      <td>movies</td>\n",
              "      <td>757</td>\n",
              "      <td>9.140831</td>\n",
              "      <td>{'cast': ['Margaret Rutherford', 'Ron Moody', ...</td>\n",
              "      <td>{'cast': ['Margaret Rutherford', 'Ron Moody', ...</td>\n",
              "    </tr>\n",
              "    <tr>\n",
              "      <th>5</th>\n",
              "      <td>movies</td>\n",
              "      <td>588</td>\n",
              "      <td>9.029721</td>\n",
              "      <td>{'cast': ['Radha Mitchell', 'Sean Bean', 'Jode...</td>\n",
              "      <td>{'cast': ['Radha Mitchell', 'Sean Bean', 'Jode...</td>\n",
              "    </tr>\n",
              "    <tr>\n",
              "      <th>6</th>\n",
              "      <td>movies</td>\n",
              "      <td>809</td>\n",
              "      <td>8.968119</td>\n",
              "      <td>{'cast': ['Mike Myers', 'Eddie Murphy', 'Camer...</td>\n",
              "      <td>{'cast': ['Mike Myers', 'Eddie Murphy', 'Camer...</td>\n",
              "    </tr>\n",
              "    <tr>\n",
              "      <th>7</th>\n",
              "      <td>tvshows</td>\n",
              "      <td>106</td>\n",
              "      <td>8.586343</td>\n",
              "      <td>{'cast': ['Andy Griffith', 'Ron Howard', 'Fran...</td>\n",
              "      <td>{'cast': ['Andy Griffith', 'Ron Howard', 'Fran...</td>\n",
              "    </tr>\n",
              "    <tr>\n",
              "      <th>8</th>\n",
              "      <td>movies</td>\n",
              "      <td>759</td>\n",
              "      <td>8.351236</td>\n",
              "      <td>{'cast': ['Jane Russell', 'Marilyn Monroe', 'C...</td>\n",
              "      <td>{'cast': ['Jane Russell', 'Marilyn Monroe', 'C...</td>\n",
              "    </tr>\n",
              "    <tr>\n",
              "      <th>9</th>\n",
              "      <td>movies</td>\n",
              "      <td>810</td>\n",
              "      <td>8.224913</td>\n",
              "      <td>{'cast': ['Mike Myers', 'Eddie Murphy', 'Camer...</td>\n",
              "      <td>4    {'cast': ['Mike Myers', 'Eddie Murphy', '...</td>\n",
              "    </tr>\n",
              "    <tr>\n",
              "      <th>10</th>\n",
              "      <td>movies</td>\n",
              "      <td>392</td>\n",
              "      <td>8.171915</td>\n",
              "      <td>{'cast': ['Juliette Binoche', 'Alfred Molina',...</td>\n",
              "      <td>{'cast': ['Juliette Binoche', 'Alfred Molina',...</td>\n",
              "    </tr>\n",
              "    <tr>\n",
              "      <th>11</th>\n",
              "      <td>movies</td>\n",
              "      <td>629</td>\n",
              "      <td>8.070547</td>\n",
              "      <td>{'cast': ['Stephen Baldwin', 'Kevin Spacey', '...</td>\n",
              "      <td>{'cast': ['Stephen Baldwin', 'Kevin Spacey', '...</td>\n",
              "    </tr>\n",
              "    <tr>\n",
              "      <th>12</th>\n",
              "      <td>movies</td>\n",
              "      <td>744</td>\n",
              "      <td>7.992266</td>\n",
              "      <td>{'cast': ['Tom Cruise', 'Kelly McGillis', 'Val...</td>\n",
              "      <td>0    {'cast': ['Tom Cruise', 'Kelly McGillis',...</td>\n",
              "    </tr>\n",
              "    <tr>\n",
              "      <th>13</th>\n",
              "      <td>movies</td>\n",
              "      <td>838</td>\n",
              "      <td>7.869948</td>\n",
              "      <td>{'cast': ['Richard Dreyfuss', 'Ron Howard', 'P...</td>\n",
              "      <td>{'cast': ['Richard Dreyfuss', 'Ron Howard', 'P...</td>\n",
              "    </tr>\n",
              "    <tr>\n",
              "      <th>14</th>\n",
              "      <td>movies</td>\n",
              "      <td>847</td>\n",
              "      <td>7.856983</td>\n",
              "      <td>{'cast': ['Warwick Davis', 'Val Kilmer', 'Joan...</td>\n",
              "      <td>{'cast': ['Warwick Davis', 'Val Kilmer', 'Joan...</td>\n",
              "    </tr>\n",
              "    <tr>\n",
              "      <th>15</th>\n",
              "      <td>movies</td>\n",
              "      <td>33</td>\n",
              "      <td>7.301026</td>\n",
              "      <td>{'cast': ['Clint Eastwood', 'Gene Hackman', 'M...</td>\n",
              "      <td>{'cast': ['Clint Eastwood', 'Gene Hackman', 'M...</td>\n",
              "    </tr>\n",
              "    <tr>\n",
              "      <th>16</th>\n",
              "      <td>movies</td>\n",
              "      <td>535</td>\n",
              "      <td>7.185848</td>\n",
              "      <td>{'cast': ['Jennifer Beals', 'Michael Nouri', '...</td>\n",
              "      <td>{'cast': ['Jennifer Beals', 'Michael Nouri', '...</td>\n",
              "    </tr>\n",
              "    <tr>\n",
              "      <th>17</th>\n",
              "      <td>movies</td>\n",
              "      <td>819</td>\n",
              "      <td>7.033730</td>\n",
              "      <td>{'cast': ['Brad Pitt', 'Robert De Niro', 'Kevi...</td>\n",
              "      <td>{'cast': ['Brad Pitt', 'Robert De Niro', 'Kevi...</td>\n",
              "    </tr>\n",
              "    <tr>\n",
              "      <th>18</th>\n",
              "      <td>movies</td>\n",
              "      <td>401</td>\n",
              "      <td>6.981756</td>\n",
              "      <td>{'cast': ['Zach Braff', 'Natalie Portman', 'Ia...</td>\n",
              "      <td>{'cast': ['Zach Braff', 'Natalie Portman', 'Ia...</td>\n",
              "    </tr>\n",
              "    <tr>\n",
              "      <th>19</th>\n",
              "      <td>movies</td>\n",
              "      <td>787</td>\n",
              "      <td>6.981756</td>\n",
              "      <td>{'cast': ['Angelina Jolie', 'Brad Pitt', 'Adam...</td>\n",
              "      <td>{'cast': ['Angelina Jolie', 'Brad Pitt', 'Adam...</td>\n",
              "    </tr>\n",
              "    <tr>\n",
              "      <th>20</th>\n",
              "      <td>movies</td>\n",
              "      <td>663</td>\n",
              "      <td>6.489738</td>\n",
              "      <td>{'cast': ['Tobin Bell', 'Costas Mandylor', 'Sc...</td>\n",
              "      <td>{'cast': ['Tobin Bell', 'Costas Mandylor', 'Sc...</td>\n",
              "    </tr>\n",
              "    <tr>\n",
              "      <th>21</th>\n",
              "      <td>movies</td>\n",
              "      <td>577</td>\n",
              "      <td>6.466314</td>\n",
              "      <td>{'cast': ['Nicole Kidman', 'Matt Dillon', 'Joa...</td>\n",
              "      <td>{'cast': ['Nicole Kidman', 'Matt Dillon', 'Joa...</td>\n",
              "    </tr>\n",
              "    <tr>\n",
              "      <th>22</th>\n",
              "      <td>movies</td>\n",
              "      <td>707</td>\n",
              "      <td>6.466314</td>\n",
              "      <td>{'cast': ['Roger Moore', 'Christopher Walken',...</td>\n",
              "      <td>{'cast': ['Roger Moore', 'Christopher Walken',...</td>\n",
              "    </tr>\n",
              "    <tr>\n",
              "      <th>23</th>\n",
              "      <td>movies</td>\n",
              "      <td>820</td>\n",
              "      <td>6.368584</td>\n",
              "      <td>{'cast': ['Kevin Costner', 'Tommy Lee Jones', ...</td>\n",
              "      <td>1    {'cast': ['Kevin Costner', 'Tommy Lee Jon...</td>\n",
              "    </tr>\n",
              "    <tr>\n",
              "      <th>24</th>\n",
              "      <td>movies</td>\n",
              "      <td>280</td>\n",
              "      <td>6.200307</td>\n",
              "      <td>{'cast': ['Arnold Schwarzenegger', 'Linda Hami...</td>\n",
              "      <td>{'cast': ['Arnold Schwarzenegger', 'Linda Hami...</td>\n",
              "    </tr>\n",
              "    <tr>\n",
              "      <th>25</th>\n",
              "      <td>tvshows</td>\n",
              "      <td>341</td>\n",
              "      <td>6.020742</td>\n",
              "      <td>{'cast': ['Dave Annable', 'Calista Flockhart',...</td>\n",
              "      <td>{'cast': ['Dave Annable', 'Calista Flockhart',...</td>\n",
              "    </tr>\n",
              "    <tr>\n",
              "      <th>26</th>\n",
              "      <td>movies</td>\n",
              "      <td>766</td>\n",
              "      <td>5.990043</td>\n",
              "      <td>{'cast': ['Bruce Campbell', 'Embeth Davidtz', ...</td>\n",
              "      <td>{'cast': ['Bruce Campbell', 'Embeth Davidtz', ...</td>\n",
              "    </tr>\n",
              "    <tr>\n",
              "      <th>27</th>\n",
              "      <td>movies</td>\n",
              "      <td>402</td>\n",
              "      <td>5.848304</td>\n",
              "      <td>{'cast': ['Sharon Stone', 'Jeanne Tripplehorn'...</td>\n",
              "      <td>2    {'cast': ['Sharon Stone', 'Jeanne Tripple...</td>\n",
              "    </tr>\n",
              "    <tr>\n",
              "      <th>28</th>\n",
              "      <td>movies</td>\n",
              "      <td>482</td>\n",
              "      <td>5.848304</td>\n",
              "      <td>{'cast': ['Richard Roundtree', 'Moses Gunn', '...</td>\n",
              "      <td>{'cast': ['Richard Roundtree', 'Moses Gunn', '...</td>\n",
              "    </tr>\n",
              "    <tr>\n",
              "      <th>29</th>\n",
              "      <td>movies</td>\n",
              "      <td>462</td>\n",
              "      <td>5.628126</td>\n",
              "      <td>{'cast': ['Julia Roberts', 'Albert Finney', 'A...</td>\n",
              "      <td>{'cast': ['Julia Roberts', 'Albert Finney', 'A...</td>\n",
              "    </tr>\n",
              "    <tr>\n",
              "      <th>30</th>\n",
              "      <td>movies</td>\n",
              "      <td>792</td>\n",
              "      <td>5.602915</td>\n",
              "      <td>{'cast': ['Charlie Sheen', 'Willem Dafoe', 'Jo...</td>\n",
              "      <td>{'cast': ['Charlie Sheen', 'Willem Dafoe', 'Jo...</td>\n",
              "    </tr>\n",
              "    <tr>\n",
              "      <th>31</th>\n",
              "      <td>movies</td>\n",
              "      <td>238</td>\n",
              "      <td>5.579118</td>\n",
              "      <td>{'cast': ['Marlon Brando', 'Al Pacino', 'James...</td>\n",
              "      <td>{'cast': ['Marlon Brando', 'Al Pacino', 'James...</td>\n",
              "    </tr>\n",
              "    <tr>\n",
              "      <th>32</th>\n",
              "      <td>movies</td>\n",
              "      <td>772</td>\n",
              "      <td>5.107244</td>\n",
              "      <td>{'cast': ['Macaulay Culkin', 'Joe Pesci', 'Dan...</td>\n",
              "      <td>{'cast': ['Macaulay Culkin', 'Joe Pesci', 'Dan...</td>\n",
              "    </tr>\n",
              "    <tr>\n",
              "      <th>33</th>\n",
              "      <td>movies</td>\n",
              "      <td>278</td>\n",
              "      <td>5.058579</td>\n",
              "      <td>{'cast': ['Tim Robbins', 'Morgan Freeman', 'Bo...</td>\n",
              "      <td>{'cast': ['Tim Robbins', 'Morgan Freeman', 'Bo...</td>\n",
              "    </tr>\n",
              "    <tr>\n",
              "      <th>34</th>\n",
              "      <td>movies</td>\n",
              "      <td>87</td>\n",
              "      <td>5.049574</td>\n",
              "      <td>{'cast': ['Harrison Ford', 'Kate Capshaw', 'Jo...</td>\n",
              "      <td>3    {'cast': ['Harrison Ford', 'Kate Capshaw'...</td>\n",
              "    </tr>\n",
              "    <tr>\n",
              "      <th>35</th>\n",
              "      <td>movies</td>\n",
              "      <td>311</td>\n",
              "      <td>4.932606</td>\n",
              "      <td>{'cast': ['Robert De Niro', 'James Woods', 'El...</td>\n",
              "      <td>{'cast': ['Robert De Niro', 'James Woods', 'El...</td>\n",
              "    </tr>\n",
              "    <tr>\n",
              "      <th>36</th>\n",
              "      <td>movies</td>\n",
              "      <td>274</td>\n",
              "      <td>4.797689</td>\n",
              "      <td>{'cast': ['Jodie Foster', 'Anthony Hopkins', '...</td>\n",
              "      <td>{'cast': ['Jodie Foster', 'Anthony Hopkins', '...</td>\n",
              "    </tr>\n",
              "    <tr>\n",
              "      <th>37</th>\n",
              "      <td>movies</td>\n",
              "      <td>242</td>\n",
              "      <td>4.645558</td>\n",
              "      <td>{'cast': ['Al Pacino', 'Diane Keaton', 'Talia ...</td>\n",
              "      <td>{'cast': ['Al Pacino', 'Diane Keaton', 'Talia ...</td>\n",
              "    </tr>\n",
              "    <tr>\n",
              "      <th>38</th>\n",
              "      <td>movies</td>\n",
              "      <td>620</td>\n",
              "      <td>4.645558</td>\n",
              "      <td>{'cast': ['Bill Murray', 'Dan Aykroyd', 'Sigou...</td>\n",
              "      <td>{'cast': ['Bill Murray', 'Dan Aykroyd', 'Sigou...</td>\n",
              "    </tr>\n",
              "    <tr>\n",
              "      <th>39</th>\n",
              "      <td>movies</td>\n",
              "      <td>557</td>\n",
              "      <td>4.553007</td>\n",
              "      <td>{'cast': ['Tobey Maguire', 'Willem Dafoe', 'Ki...</td>\n",
              "      <td>{'cast': ['Tobey Maguire', 'Willem Dafoe', 'Ki...</td>\n",
              "    </tr>\n",
              "    <tr>\n",
              "      <th>40</th>\n",
              "      <td>movies</td>\n",
              "      <td>121</td>\n",
              "      <td>4.446352</td>\n",
              "      <td>{'cast': ['Elijah Wood', 'Ian McKellen', 'Vigg...</td>\n",
              "      <td>{'cast': ['Elijah Wood', 'Ian McKellen', 'Vigg...</td>\n",
              "    </tr>\n",
              "    <tr>\n",
              "      <th>41</th>\n",
              "      <td>movies</td>\n",
              "      <td>676</td>\n",
              "      <td>4.318675</td>\n",
              "      <td>{'cast': ['Ben Affleck', 'Jon Voight', 'Tom Si...</td>\n",
              "      <td>{'cast': ['Ben Affleck', 'Jon Voight', 'Tom Si...</td>\n",
              "    </tr>\n",
              "    <tr>\n",
              "      <th>42</th>\n",
              "      <td>movies</td>\n",
              "      <td>11</td>\n",
              "      <td>4.318675</td>\n",
              "      <td>{'cast': ['Mark Hamill', 'Harrison Ford', 'Car...</td>\n",
              "      <td>{'cast': ['Mark Hamill', 'Harrison Ford', 'Car...</td>\n",
              "    </tr>\n",
              "    <tr>\n",
              "      <th>43</th>\n",
              "      <td>movies</td>\n",
              "      <td>18</td>\n",
              "      <td>4.240282</td>\n",
              "      <td>{'cast': ['Bruce Willis', 'Milla Jovovich', 'G...</td>\n",
              "      <td>{'cast': ['Bruce Willis', 'Milla Jovovich', 'G...</td>\n",
              "    </tr>\n",
              "    <tr>\n",
              "      <th>44</th>\n",
              "      <td>movies</td>\n",
              "      <td>479</td>\n",
              "      <td>3.952313</td>\n",
              "      <td>{'cast': ['Samuel L. Jackson', 'Vanessa Willia...</td>\n",
              "      <td>{'cast': ['Samuel L. Jackson', 'Vanessa Willia...</td>\n",
              "    </tr>\n",
              "    <tr>\n",
              "      <th>45</th>\n",
              "      <td>movies</td>\n",
              "      <td>597</td>\n",
              "      <td>3.769139</td>\n",
              "      <td>{'cast': ['Leonardo DiCaprio', 'Kate Winslet',...</td>\n",
              "      <td>{'cast': ['Leonardo DiCaprio', 'Kate Winslet',...</td>\n",
              "    </tr>\n",
              "    <tr>\n",
              "      <th>46</th>\n",
              "      <td>movies</td>\n",
              "      <td>602</td>\n",
              "      <td>3.602194</td>\n",
              "      <td>{'cast': ['Will Smith', 'Bill Pullman', 'Jeff ...</td>\n",
              "      <td>{'cast': ['Will Smith', 'Bill Pullman', 'Jeff ...</td>\n",
              "    </tr>\n",
              "  </tbody>\n",
              "</table>\n",
              "</div>"
            ],
            "text/plain": [
              "      _type  ...                                           sources1\n",
              "0    movies  ...  {'cast': ['Jeff Bridges', 'Bruce Boxleitner', ...\n",
              "1    movies  ...  {'cast': ['Eric Stoltz', 'Julie Delpy', 'Jean-...\n",
              "2    movies  ...  {'cast': ['Bruce Dern', 'Cliff Potts', 'Ron Ri...\n",
              "3   tvshows  ...  {'cast': ['Ron Rifkin', 'Eddie Barth', 'Charle...\n",
              "4    movies  ...  {'cast': ['Margaret Rutherford', 'Ron Moody', ...\n",
              "5    movies  ...  {'cast': ['Radha Mitchell', 'Sean Bean', 'Jode...\n",
              "6    movies  ...  {'cast': ['Mike Myers', 'Eddie Murphy', 'Camer...\n",
              "7   tvshows  ...  {'cast': ['Andy Griffith', 'Ron Howard', 'Fran...\n",
              "8    movies  ...  {'cast': ['Jane Russell', 'Marilyn Monroe', 'C...\n",
              "9    movies  ...  4    {'cast': ['Mike Myers', 'Eddie Murphy', '...\n",
              "10   movies  ...  {'cast': ['Juliette Binoche', 'Alfred Molina',...\n",
              "11   movies  ...  {'cast': ['Stephen Baldwin', 'Kevin Spacey', '...\n",
              "12   movies  ...  0    {'cast': ['Tom Cruise', 'Kelly McGillis',...\n",
              "13   movies  ...  {'cast': ['Richard Dreyfuss', 'Ron Howard', 'P...\n",
              "14   movies  ...  {'cast': ['Warwick Davis', 'Val Kilmer', 'Joan...\n",
              "15   movies  ...  {'cast': ['Clint Eastwood', 'Gene Hackman', 'M...\n",
              "16   movies  ...  {'cast': ['Jennifer Beals', 'Michael Nouri', '...\n",
              "17   movies  ...  {'cast': ['Brad Pitt', 'Robert De Niro', 'Kevi...\n",
              "18   movies  ...  {'cast': ['Zach Braff', 'Natalie Portman', 'Ia...\n",
              "19   movies  ...  {'cast': ['Angelina Jolie', 'Brad Pitt', 'Adam...\n",
              "20   movies  ...  {'cast': ['Tobin Bell', 'Costas Mandylor', 'Sc...\n",
              "21   movies  ...  {'cast': ['Nicole Kidman', 'Matt Dillon', 'Joa...\n",
              "22   movies  ...  {'cast': ['Roger Moore', 'Christopher Walken',...\n",
              "23   movies  ...  1    {'cast': ['Kevin Costner', 'Tommy Lee Jon...\n",
              "24   movies  ...  {'cast': ['Arnold Schwarzenegger', 'Linda Hami...\n",
              "25  tvshows  ...  {'cast': ['Dave Annable', 'Calista Flockhart',...\n",
              "26   movies  ...  {'cast': ['Bruce Campbell', 'Embeth Davidtz', ...\n",
              "27   movies  ...  2    {'cast': ['Sharon Stone', 'Jeanne Tripple...\n",
              "28   movies  ...  {'cast': ['Richard Roundtree', 'Moses Gunn', '...\n",
              "29   movies  ...  {'cast': ['Julia Roberts', 'Albert Finney', 'A...\n",
              "30   movies  ...  {'cast': ['Charlie Sheen', 'Willem Dafoe', 'Jo...\n",
              "31   movies  ...  {'cast': ['Marlon Brando', 'Al Pacino', 'James...\n",
              "32   movies  ...  {'cast': ['Macaulay Culkin', 'Joe Pesci', 'Dan...\n",
              "33   movies  ...  {'cast': ['Tim Robbins', 'Morgan Freeman', 'Bo...\n",
              "34   movies  ...  3    {'cast': ['Harrison Ford', 'Kate Capshaw'...\n",
              "35   movies  ...  {'cast': ['Robert De Niro', 'James Woods', 'El...\n",
              "36   movies  ...  {'cast': ['Jodie Foster', 'Anthony Hopkins', '...\n",
              "37   movies  ...  {'cast': ['Al Pacino', 'Diane Keaton', 'Talia ...\n",
              "38   movies  ...  {'cast': ['Bill Murray', 'Dan Aykroyd', 'Sigou...\n",
              "39   movies  ...  {'cast': ['Tobey Maguire', 'Willem Dafoe', 'Ki...\n",
              "40   movies  ...  {'cast': ['Elijah Wood', 'Ian McKellen', 'Vigg...\n",
              "41   movies  ...  {'cast': ['Ben Affleck', 'Jon Voight', 'Tom Si...\n",
              "42   movies  ...  {'cast': ['Mark Hamill', 'Harrison Ford', 'Car...\n",
              "43   movies  ...  {'cast': ['Bruce Willis', 'Milla Jovovich', 'G...\n",
              "44   movies  ...  {'cast': ['Samuel L. Jackson', 'Vanessa Willia...\n",
              "45   movies  ...  {'cast': ['Leonardo DiCaprio', 'Kate Winslet',...\n",
              "46   movies  ...  {'cast': ['Will Smith', 'Bill Pullman', 'Jeff ...\n",
              "\n",
              "[47 rows x 5 columns]"
            ]
          },
          "metadata": {
            "tags": []
          },
          "execution_count": 218
        }
      ]
    },
    {
      "cell_type": "code",
      "metadata": {
        "id": "hACKEjHoSKCM"
      },
      "source": [
        "out1 = list(df[\"sources1\"])"
      ],
      "execution_count": 219,
      "outputs": []
    },
    {
      "cell_type": "code",
      "metadata": {
        "id": "3KfAv1YrSreJ",
        "outputId": "b32f566f-8e25-4927-979d-109009a8a0de",
        "colab": {
          "base_uri": "https://localhost:8080/"
        }
      },
      "source": [
        "type(out1)"
      ],
      "execution_count": 220,
      "outputs": [
        {
          "output_type": "execute_result",
          "data": {
            "text/plain": [
              "list"
            ]
          },
          "metadata": {
            "tags": []
          },
          "execution_count": 220
        }
      ]
    },
    {
      "cell_type": "code",
      "metadata": {
        "id": "W7VAiRvKS76v"
      },
      "source": [
        "out = DataFrame(out1,columns=['_source'])"
      ],
      "execution_count": 221,
      "outputs": []
    },
    {
      "cell_type": "code",
      "metadata": {
        "id": "SNGuPwSQT78H"
      },
      "source": [
        "out.to_csv(\"MyOutput.csv\")"
      ],
      "execution_count": 223,
      "outputs": []
    },
    {
      "cell_type": "code",
      "metadata": {
        "id": "i6FqRJIcT8eE"
      },
      "source": [
        ""
      ],
      "execution_count": 222,
      "outputs": []
    }
  ]
}